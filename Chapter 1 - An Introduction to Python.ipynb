{
 "cells": [
  {
   "cell_type": "markdown",
   "metadata": {},
   "source": [
    "### Anthony Hills - Research Techniques in Astronomy\n",
    "\n",
    "\n",
    "\n",
    "\n",
    "In these series of notebooks, I will be working through the [lecture notes](https://surreylearn.surrey.ac.uk/d2l/le/content/156860/viewContent/1209378/View) offered by the University of Surrey's [Research Techniques in Astronomy](https://surreylearn.surrey.ac.uk/d2l/home/156860) 2017/18 Bsc. Physics module. \n",
    "\n",
    "The purpose of these notebooks is to provide a place to write my notes alongside my programs, so that they can be reviewed and improved on in a more readable and fluid way as opposed to writing plebian scripts in geddit.\n",
    "\n",
    "<img src=\"http://openastronomy.org/pyastro/images/pyastro_logo.svg\" width=\"200\">\n",
    "<img src=\"https://www.unitemps.com/Media/Unitemps/Page/Surrey%20JPEG.jpg\" width=\"300\">\n"
   ]
  },
  {
   "cell_type": "markdown",
   "metadata": {},
   "source": [
    "## Chapter 1\n",
    "# An Introduction to Python"
   ]
  },
  {
   "cell_type": "markdown",
   "metadata": {},
   "source": [
    "## 1.1 Python\n",
    "\n",
    "__Python__ is an __interpreted language__ (like Java) as opposed to a compiled language (like C). This means that Python source code is __automatically converted__ to an __intermediate__ and __platform-independent form__, which is then __executed__ by the __Python virtual machine__. It is __slower than compiled languages__ like C, but it is incredibly __modular__, __flexible__, and __easy__ to use."
   ]
  },
  {
   "cell_type": "markdown",
   "metadata": {},
   "source": [
    "## 1.2 Your first Python program \n",
    "\n",
    "In this module we will be using __Python 3__ to write code.\n",
    "\n",
    "This module suggests to use Python's *Integrated Development Environemnt*, or __IDLE__ for short... but IPython notebooks are cooler, so we'll be mostly using those.\n",
    "\n",
    "IDLE provides a __quick way__ to __test short pieces of code__, and the __interactive shell__ can be used to:\n",
    "* Evaluate Python expressions (e.g. basic arithmetic)\n",
    "* Execute Python statements (e.g. print)\n",
    "* Assign values to variables, and remember those as long as the shell is open\n",
    "\n",
    "To __exit IDLE__, type __Ctrl+D__.\n",
    "\n",
    "To __run__ a __Python script__ that you have written using a text editor, you can run it from the terminal by typing: __python3 filename.py__"
   ]
  },
  {
   "cell_type": "code",
   "execution_count": 4,
   "metadata": {
    "collapsed": false
   },
   "outputs": [
    {
     "name": "stdout",
     "output_type": "stream",
     "text": [
      "Hello World!\n"
     ]
    }
   ],
   "source": [
    "print(\"Hello World!\")"
   ]
  },
  {
   "cell_type": "markdown",
   "metadata": {},
   "source": [
    "## 1.3 Arithmetic\n",
    "\n",
    "Here are some basic mathematical operators that Python can execute:\n",
    "\n",
    "    x + y  | addition\n",
    "    x - y  | subtraction\n",
    "    x * y  | multiplication\n",
    "    x / y  | division\n",
    "    x ** y | raising x to the power of y\n",
    "    x // y | integer division\n",
    "    x % y  | modulo\n",
    "    \n",
    "    \n"
   ]
  },
  {
   "cell_type": "code",
   "execution_count": 6,
   "metadata": {
    "collapsed": false
   },
   "outputs": [
    {
     "data": {
      "text/plain": [
       "1"
      ]
     },
     "execution_count": 6,
     "metadata": {},
     "output_type": "execute_result"
    }
   ],
   "source": [
    "# Example 1.5: addition\n",
    "a = 1\n",
    "b = 2\n",
    "x = a+b\n",
    "a"
   ]
  },
  {
   "cell_type": "code",
   "execution_count": 7,
   "metadata": {
    "collapsed": false
   },
   "outputs": [
    {
     "data": {
      "text/plain": [
       "2"
      ]
     },
     "execution_count": 7,
     "metadata": {},
     "output_type": "execute_result"
    }
   ],
   "source": [
    "b"
   ]
  },
  {
   "cell_type": "code",
   "execution_count": 8,
   "metadata": {
    "collapsed": false
   },
   "outputs": [
    {
     "data": {
      "text/plain": [
       "3"
      ]
     },
     "execution_count": 8,
     "metadata": {},
     "output_type": "execute_result"
    }
   ],
   "source": [
    "x"
   ]
  },
  {
   "cell_type": "code",
   "execution_count": 9,
   "metadata": {
    "collapsed": false
   },
   "outputs": [
    {
     "name": "stdout",
     "output_type": "stream",
     "text": [
      "1 2 3\n"
     ]
    }
   ],
   "source": [
    "print (a,b,x)"
   ]
  },
  {
   "cell_type": "markdown",
   "metadata": {},
   "source": [
    "Since a and b are __integers__, then x will be an __integer as well__. However if they were both floating point types, then x would be a float as well. If a and b are of a __different type__, then x would be the __most general type__."
   ]
  },
  {
   "cell_type": "code",
   "execution_count": 11,
   "metadata": {
    "collapsed": false
   },
   "outputs": [
    {
     "data": {
      "text/plain": [
       "3.0"
      ]
     },
     "execution_count": 11,
     "metadata": {},
     "output_type": "execute_result"
    }
   ],
   "source": [
    "# Example 1.6: addition\n",
    "a = 1\n",
    "b = 2.0\n",
    "x = a+b\n",
    "x"
   ]
  },
  {
   "cell_type": "markdown",
   "metadata": {},
   "source": [
    "In this case the most general type is float."
   ]
  },
  {
   "cell_type": "markdown",
   "metadata": {},
   "source": [
    "## 1.4 The Python modifiers\n",
    "\n",
    "Code in Python can be __made more compact__ using modifiers:"
   ]
  },
  {
   "cell_type": "code",
   "execution_count": 22,
   "metadata": {
    "collapsed": false
   },
   "outputs": [
    {
     "data": {
      "text/plain": [
       "0"
      ]
     },
     "execution_count": 22,
     "metadata": {},
     "output_type": "execute_result"
    }
   ],
   "source": [
    "x = 0\n",
    "x"
   ]
  },
  {
   "cell_type": "code",
   "execution_count": 23,
   "metadata": {
    "collapsed": false
   },
   "outputs": [
    {
     "data": {
      "text/plain": [
       "1"
      ]
     },
     "execution_count": 23,
     "metadata": {},
     "output_type": "execute_result"
    }
   ],
   "source": [
    "x += 1\n",
    "x"
   ]
  },
  {
   "cell_type": "code",
   "execution_count": 24,
   "metadata": {
    "collapsed": false
   },
   "outputs": [
    {
     "data": {
      "text/plain": [
       "-2"
      ]
     },
     "execution_count": 24,
     "metadata": {},
     "output_type": "execute_result"
    }
   ],
   "source": [
    "x -= 3\n",
    "x"
   ]
  },
  {
   "cell_type": "code",
   "execution_count": 25,
   "metadata": {
    "collapsed": false
   },
   "outputs": [
    {
     "data": {
      "text/plain": [
       "-4"
      ]
     },
     "execution_count": 25,
     "metadata": {},
     "output_type": "execute_result"
    }
   ],
   "source": [
    "x *= 2\n",
    "x"
   ]
  },
  {
   "cell_type": "code",
   "execution_count": 26,
   "metadata": {
    "collapsed": false
   },
   "outputs": [
    {
     "data": {
      "text/plain": [
       "-1.0"
      ]
     },
     "execution_count": 26,
     "metadata": {},
     "output_type": "execute_result"
    }
   ],
   "source": [
    "x /= 4\n",
    "x"
   ]
  },
  {
   "cell_type": "markdown",
   "metadata": {},
   "source": [
    "Note that the final division here returns x as a floating variable."
   ]
  },
  {
   "cell_type": "markdown",
   "metadata": {},
   "source": [
    "## 1.5 The math Package\n",
    "\n",
    "Standard mathematical functions are accesible through the math package. For example:"
   ]
  },
  {
   "cell_type": "code",
   "execution_count": 27,
   "metadata": {
    "collapsed": false
   },
   "outputs": [
    {
     "name": "stdout",
     "output_type": "stream",
     "text": [
      "1.0986122886681098\n"
     ]
    }
   ],
   "source": [
    "# Example 1.10: math\n",
    "from math import log\n",
    "y = log(3)\n",
    "print(y)"
   ]
  },
  {
   "cell_type": "markdown",
   "metadata": {},
   "source": [
    "Once imported, the log function will be available everywhere in your code. It is a good practice to __include all function imports__ at the __very start of the program__.\n",
    "\n",
    "The math package includes the following mathematical functions:\n",
    "                 \n",
    "                 log | natural logarithm\n",
    "               log10 | log base 10\n",
    "                 exp | exponential\n",
    "                sqrt | positive square root\n",
    "       sin, cos, tan | sine, cosine, tangent (argument in radians)\n",
    "    asin, acos, atan | arcsine, arcosine, arctangent (in radians)\n",
    "    sinh, cosh, tanh | hyperbolic sine, cosine, tangent"
   ]
  },
  {
   "cell_type": "code",
   "execution_count": 28,
   "metadata": {
    "collapsed": false
   },
   "outputs": [
    {
     "name": "stdout",
     "output_type": "stream",
     "text": [
      "1.0 3.141592653589793 6.283185307179586\n"
     ]
    }
   ],
   "source": [
    "# Example 1.11: pi\n",
    "from math import pi\n",
    "r = 1.0\n",
    "circ = 2.0*pi*r\n",
    "print(r,pi,circ)"
   ]
  },
  {
   "cell_type": "markdown",
   "metadata": {},
   "source": [
    "A conveninet way of __importing all__ functions available is by using __import *__:"
   ]
  },
  {
   "cell_type": "code",
   "execution_count": 30,
   "metadata": {
    "collapsed": false
   },
   "outputs": [
    {
     "name": "stdout",
     "output_type": "stream",
     "text": [
      "11.0 3.0 3.141592653589793\n"
     ]
    }
   ],
   "source": [
    "from math import *\n",
    "y = sqrt(121)\n",
    "z = log10(1000)\n",
    "t = acos(-1.0)\n",
    "print(y, z, t)"
   ]
  },
  {
   "cell_type": "markdown",
   "metadata": {},
   "source": [
    "A third method, which is __generally recommended__ is to import the whole math module, and call any function with math.func for example:"
   ]
  },
  {
   "cell_type": "code",
   "execution_count": 32,
   "metadata": {
    "collapsed": false
   },
   "outputs": [
    {
     "name": "stdout",
     "output_type": "stream",
     "text": [
      "11.0 3.0 3.141592653589793\n"
     ]
    }
   ],
   "source": [
    "# Example 1.13: import math\n",
    "import math\n",
    "y = math.sqrt(121)\n",
    "z = math.log10(1000)\n",
    "t = math.acos(-1.0)\n",
    "print (y, z, t)"
   ]
  },
  {
   "cell_type": "markdown",
   "metadata": {},
   "source": [
    "## 1.6 Python Modules\n",
    "\n"
   ]
  },
  {
   "cell_type": "code",
   "execution_count": null,
   "metadata": {
    "collapsed": true
   },
   "outputs": [],
   "source": []
  }
 ],
 "metadata": {
  "kernelspec": {
   "display_name": "Python 3",
   "language": "python",
   "name": "python3"
  },
  "language_info": {
   "codemirror_mode": {
    "name": "ipython",
    "version": 3
   },
   "file_extension": ".py",
   "mimetype": "text/x-python",
   "name": "python",
   "nbconvert_exporter": "python",
   "pygments_lexer": "ipython3",
   "version": "3.6.0"
  }
 },
 "nbformat": 4,
 "nbformat_minor": 2
}
