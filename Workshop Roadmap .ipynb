{
 "cells": [
  {
   "cell_type": "markdown",
   "metadata": {},
   "source": [
    "### 1. Loading Error\n",
    "\n",
    "If you get an error, tell it load the csv files using utf-8 encoding:"
   ]
  },
  {
   "cell_type": "code",
   "execution_count": null,
   "metadata": {
    "collapsed": true
   },
   "outputs": [],
   "source": [
    "titles = pd.DataFrame.from_csv(\n",
    "    'data/titles.csv', index_col=None, encoding='utf-8')\n",
    "titles.head()"
   ]
  },
  {
   "cell_type": "markdown",
   "metadata": {},
   "source": [
    "### 2. Discuss IPython Notebook shortcuts\n",
    "\n",
    "* ESC ... command mode\n",
    "* CTRL + H ... help"
   ]
  },
  {
   "cell_type": "markdown",
   "metadata": {},
   "source": [
    "### 3. Introduce Datasets\n",
    "titles.csv \n",
    "* is simply a list of the name and year of release of all of the major films in the Internet Movie Database\n",
    "\n",
    "(IMDb) - http://www.imdb.com\n",
    "cast.csv has a more interesting data structure, load its head. This might have a given movie appear many times, because the title and year of the movie will occur once for each person who is listed in the credits of that movie. The information we have about them is the: \n",
    "* name\n",
    "* the type of role - whether they are an actor or actress\n",
    "* what role they played in the movie\n",
    "* and it turns out there's this huge question of who comes first, who comes second, who comes third, when you list the people in a movie. And that is this last column, n. "
   ]
  },
  {
   "cell_type": "markdown",
   "metadata": {},
   "source": [
    "### Introduce commands that will let students get started with the first few exercises\n",
    "\n",
    "Scroll to the bottom of the notebook, make new cells.\n",
    "\n",
    "1. If you simply mention the __name of a dataframe__, and hit __enter__ - not the whole dataframe will display. Notice the middle of the dataframe. This is one of the great things about Pandas. Pandas knows that you don't want to see the entire dataframe on the screen at once.\n",
    "2. __len(titles)__ - you can take the len of the dataframe, just as you would a Python list. This returns the number of rows in the dataframe.\n",
    "3. titles__.head()__ - when you're solving a problem, typically you want to remind yourself what columns your dataframe has. .head() is a convenient way of explicitly returning the first 5 rows in a dataframe. .__tail()__ similarly returns the last 5 rows in the dataframe, along with their respective columns. \n",
    "4. Emphasise that .head() and .tail() are __real genuine data operations__. .head() doesn't just show you the first 5 rows, or the __first 10 rows *put 10 in the parentheses and run cell*__. What it does, is it really __builds a new dataframe__. You can use this to reduce a large dataset, if you sort it to the rows you're interested at the top - you can use head and tail to snip off the most interesting first few or last few rows in the dataframe. __*save the head to a new variable, and return it*__ you can run head on it again, it is a fully functional dataframe just like titles was.\n",
    "5. __Remember__, if the last thing in a IPython notebook is simply the name of something you want to look at, then __without__ you having to spend time typing__ print __- you will get to see the results there on the page, so this is how I'll set cells up when I'm doing problems.\n",
    "6. Introduce__ filtering__:"
   ]
  },
  {
   "cell_type": "markdown",
   "metadata": {},
   "source": [
    "### Filtering\n",
    "\n",
    "Lets you reduce a dataframe to only the rows that match some criterion. The way that you do this is interesting. What you do, is that you first need to learn that these columns are called __series__. When they're in the dataframe they're called columns, but when you pull them out you have a series. \n",
    "\n",
    "You can __pull series out__ of dataframes in two different ways. \n",
    "* h['title']\n",
    "* h.title\n",
    "\n",
    "Just like with NumPy, this object lets you__ do math__ as though you were operating on one number and it will go __touch them all__. \n",
    "* h['year'] + 1000\n",
    "* h['year']__ // __10 * 10... will give you the __decades__, using that special Python operator for __truncating division__. Think of the first slash doing the division, and the second slash as the __samurai sword__ that chops off the fraction after the number.\n",
    "\n",
    "__Ask question__:\n",
    "\n",
    "* h.year__ > __1985 ... doing __division in Python returns a number__. __What does greater than return in Python__?\n",
    "* If doing math on 5 numbers gives you numbers, __doing a comparison gives you 5 true or falses__.\n",
    "\n",
    "Create new dataframe\n",
    "* h[h.year < 1985] ... If you give the__ square bracket operator on a dataframe__, a list of trues and falses, Pandas will __return you__ the rows and columns that it thinks you wants by returning the ones that have the__ True__ value.\n",
    "* Instead of giving you a single True or False statement, this is a comparison that __returns an array of true or falses__ that you are using to do __selection__.\n",
    "\n",
    "Bitwise AND, OR\n",
    "* h[h.year < 1980 and h.year >= 1990]  ...  the series can't give 'and' a single True or False value because its full of both types of values\n",
    "* h[(h.year < 1980)__ & __(h.year >= 1990)] ... instead we use & and __parenthesis__\n",
    "* ...\n",
    "* h[(h.year < 1980)__ | __(h.year >= 1990)] ... bitwise OR using the pipe operator\n",
    "\n",
    "Final thing. Once you've selected columns you're interested in, \n",
    "* t = titles\n",
    "* t[t.title == 'Macbeth']\n",
    "* t[t.title == 'Macbeth']__.sort_values('year') __... sorts by the year column\n",
    "* t[t.title == 'Macbeth']__.sort_values('year').head()__ ... returns the 5 most recent movies titled 'Macbeth'.\n",
    "\n",
    "### 4. Introduce cheat-sheet in the repository\n",
    "\n",
    "What we've just discussed should be enough to get everyone started on exercises-1.\n",
    "\n",
    "### 5. Let them work on the exercises for 15 minutes.\n",
    "\n",
    "Look at cheat sheet, and maybe watch YT video while they work. Prepare them for the next few exercises. \n",
    "https://www.youtube.com/watch?v=5JnMutdy6Fw\n",
    "40:00"
   ]
  }
 ],
 "metadata": {
  "kernelspec": {
   "display_name": "Python 3",
   "language": "python",
   "name": "python3"
  },
  "language_info": {
   "codemirror_mode": {
    "name": "ipython",
    "version": 3
   },
   "file_extension": ".py",
   "mimetype": "text/x-python",
   "name": "python",
   "nbconvert_exporter": "python",
   "pygments_lexer": "ipython3",
   "version": "3.6.0"
  }
 },
 "nbformat": 4,
 "nbformat_minor": 2
}
