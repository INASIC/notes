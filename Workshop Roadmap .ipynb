{
 "cells": [
  {
   "cell_type": "markdown",
   "metadata": {},
   "source": [
    "### 1. Loading Error\n",
    "\n",
    "If you get an error, tell it load the csv files using utf-8 encoding:"
   ]
  },
  {
   "cell_type": "code",
   "execution_count": null,
   "metadata": {
    "collapsed": true
   },
   "outputs": [],
   "source": [
    "titles = pd.DataFrame.from_csv(\n",
    "    'data/titles.csv', index_col=None, encoding='utf-8')\n",
    "titles.head()"
   ]
  },
  {
   "cell_type": "markdown",
   "metadata": {},
   "source": [
    "### 2. Discuss IPython Notebook shortcuts\\\n",
    "\n",
    "* ESC ... command mode\n",
    "* CTRL + H ... help"
   ]
  },
  {
   "cell_type": "markdown",
   "metadata": {},
   "source": [
    "### 3. Introduce Datasets\n",
    "titles.csv \n",
    "* is simply a list of the name and year of release of all of the major films in the Internet Movie Database\n",
    "\n",
    "(IMDb) - http://www.imdb.com\n",
    "cast.csv has a more interesting data structure, load its head. This might have a given movie appear many times, because the title and year of the movie will occur once for each person who is listed in the credits of that movie. The information we have about them is the: \n",
    "* name\n",
    "* the type of role - whether they are an actor or actress\n",
    "* what role they played in the movie\n",
    "* and it turns out there's this huge question of who comes first, who comes second, who comes third, when you list the people in a movie. And that is this last column, n. "
   ]
  },
  {
   "cell_type": "markdown",
   "metadata": {},
   "source": [
    "### Introduce Commands that will let students get started with the first few exercises\n",
    "\n",
    "Scroll to the bottom of the notebook, make new cells.\n",
    "\n",
    "1. If you simply mention the name of a dataframe, and hit enter - not the whole dataframe will display. Notice the middle of the dataframe. This is one of the great things about Pandas. Pandas knows that you don't want to see the entire dataframe on the screen at once.\n",
    "2. len(titles) - you can take the len of the dataframe, just as you would a Python list. This returns the number of rows in the dataframe.\n",
    "3. titles.head() - when you're solving a problem, typically you want to remind yourself what columns your dataframe has. .head() is a convenient way of explicitly returning the first 5 rows in a dataframe. .tail() similarly returns the last 5 rows in the dataframe, along with their respective columns. \n",
    "4. Emphasise that .head() and .tail() are real genuine data operations. .head() doesn't just show you the first 5 rows, or the first 10 rows *put 10 in the parentheses and run cell*. What it does, is it really builds a new dataframe. You can use this to reduce a large dataset, if you sort it to the rows you're interested at the top - you can use head and tail to snip off the most interesting first few or last few rows in the dataframe. *save the head to a new variable, and return it* you can run head on it again, it is a fully functional dataframe just like titles was.\n",
    "5. Remember, if the last thing in a IPython notebook is simply the name of something you want to look at, then without you having to spend time typing print - you will get to see the results there on the page, so this is how I'll set cells up when I'm doing problems.\n",
    "6. Introduce filtering:"
   ]
  },
  {
   "cell_type": "markdown",
   "metadata": {},
   "source": [
    "### Filtering\n",
    "\n",
    "Lets you reduce a dataframe to only the rows that match some criterion. The way that you do this is interesting. What you do, is that you first need to learn that these columns are called series. When they're in the dataframe they're called columns, but when you pull them out you have a series. \n",
    "\n",
    "You can pull series out of dataframes in two different ways. \n",
    "* h['title']\n",
    "* h.title\n",
    "\n",
    "Just like with NumPy, this object lets you do math as though you were operating on one number and it will go touch them all. \n",
    "* h['year'] + 1000\n",
    "* h['year'] // 10 * 10... will give you the decades, using that special Python operator for truncating division. Think of the first slash doing the division, and the second slash as the samurai sword that chops off the fraction after the number.\n",
    "\n",
    "Ask question:\n",
    "\n",
    "* h.year > 1985 ... doing division in Python returns a number. What does greater than return in Python?\n",
    "* If doing math on 5 numbers gives you numbers, doing a comparison gives you 5 true or falses.\n",
    "\n",
    "Create new dataframe\n",
    "* h[h.year < 1985] ... If you give the square bracket operator on a dataframe, a list of trues and falses, Pandas will return you the rows and columns that it thinks you wants by returning the ones that have the True value.\n",
    "* Instead of giving you a single True or False statement, this is a comparison that returns an array of true or falses that you are using to do __selection__.\n",
    "\n",
    "Bitwise AND, OR\n",
    "* h[h.year < 1980 and h.year >= 1990]  ...  the series can't give 'and' a single True or False value because its full of both types of values\n",
    "* h[(h.year < 1980) & (h.year >= 1990)] ... instead we use & and parenthesis\n",
    "* ...\n",
    "* h[(h.year < 1980) | (h.year >= 1990)] ... bitwise OR using the pipe operator\n",
    "\n",
    "Final thing. Once you've selected columns you're interested in, \n",
    "* t = titles\n",
    "* t[t.title == 'Macbeth']\n",
    "* t[t.title == 'Macbeth'].sort_values('year') ... sorts by the year column\n",
    "* t[t.title == 'Macbeth'].sort_values('year').head() ... returns the 5 most recent movies titled 'Macbeth'.\n",
    "\n",
    "### 4. Introduce cheat-sheet in the repository\n",
    "\n",
    "What we've just discussed should be enough to get everyone started on exercises-1.\n",
    "\n",
    "### 5. Let them work on the exercises for 15 minutes.\n",
    "\n",
    "Look at cheat sheet, and maybe watch YT video while they work. Prepare them for the next few exercises. \n",
    "https://www.youtube.com/watch?v=5JnMutdy6Fw\n",
    "40:00"
   ]
  },
  {
   "cell_type": "code",
   "execution_count": null,
   "metadata": {
    "collapsed": true
   },
   "outputs": [],
   "source": []
  }
 ],
 "metadata": {
  "kernelspec": {
   "display_name": "Python 3",
   "language": "python",
   "name": "python3"
  },
  "language_info": {
   "codemirror_mode": {
    "name": "ipython",
    "version": 3
   },
   "file_extension": ".py",
   "mimetype": "text/x-python",
   "name": "python",
   "nbconvert_exporter": "python",
   "pygments_lexer": "ipython3",
   "version": "3.6.0"
  }
 },
 "nbformat": 4,
 "nbformat_minor": 2
}
